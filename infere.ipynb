{
 "cells": [
  {
   "cell_type": "code",
   "execution_count": 28,
   "metadata": {},
   "outputs": [],
   "source": [
    "import pandas as pd\n",
    "import requests\n",
    "import base64"
   ]
  },
  {
   "cell_type": "code",
   "execution_count": 3,
   "metadata": {},
   "outputs": [],
   "source": [
    "data =  pd.read_csv(\n",
    "    '/Users/Labi/V_env/deploy-tf-torch/data/output/train/train.csv', \n",
    "    names=[\n",
    "    'months_as_member', \n",
    "    'weight', \n",
    "    'days_before', \n",
    "    'day_of_week', \n",
    "    'time', \n",
    "    'attended'\n",
    "]\n",
    ")"
   ]
  },
  {
   "cell_type": "code",
   "execution_count": 13,
   "metadata": {},
   "outputs": [],
   "source": [
    "api = 'http://127.0.0.1:8080'"
   ]
  },
  {
   "cell_type": "code",
   "execution_count": 38,
   "metadata": {},
   "outputs": [],
   "source": [
    "payload = {\n",
    "    'instances': [data.iloc[:10,:-1].values.tolist()]\n",
    "}"
   ]
  },
  {
   "cell_type": "code",
   "execution_count": 15,
   "metadata": {},
   "outputs": [
    {
     "data": {
      "text/plain": [
       "dict"
      ]
     },
     "execution_count": 15,
     "metadata": {},
     "output_type": "execute_result"
    }
   ],
   "source": [
    "type(payload)"
   ]
  },
  {
   "cell_type": "code",
   "execution_count": 39,
   "metadata": {},
   "outputs": [
    {
     "data": {
      "text/plain": [
       "[[[10.0, 85.31, 12.0, 6.0, 2.0],\n",
       "  [10.0, 88.58, 2.0, 1.0, 1.0],\n",
       "  [6.0, 90.6, 14.0, 6.0, 2.0],\n",
       "  [11.0, 69.61, 10.0, 5.0, 1.0],\n",
       "  [33.0, 81.68, 8.0, 4.0, 1.0],\n",
       "  [51.0, 74.81, 10.0, 5.0, 1.0],\n",
       "  [11.0, 68.87, 10.0, 5.0, 1.0],\n",
       "  [25.0, 74.67, 2.0, 1.0, 1.0],\n",
       "  [8.0, 82.16, 10.0, 5.0, 1.0],\n",
       "  [12.0, 72.15, 10.0, 5.0, 1.0]]]"
      ]
     },
     "execution_count": 39,
     "metadata": {},
     "output_type": "execute_result"
    }
   ],
   "source": [
    "payload['instances']"
   ]
  },
  {
   "cell_type": "code",
   "execution_count": 40,
   "metadata": {},
   "outputs": [
    {
     "data": {
      "text/plain": [
       "<Response [200]>"
      ]
     },
     "execution_count": 40,
     "metadata": {},
     "output_type": "execute_result"
    }
   ],
   "source": [
    "requests.get(f'{api}/health')"
   ]
  },
  {
   "cell_type": "code",
   "execution_count": 45,
   "metadata": {},
   "outputs": [],
   "source": [
    "res = requests.post(\n",
    "    f'{api}/predict', \n",
    "    json=payload, \n",
    "    headers={\"content-type\": \"application/json\"}\n",
    ")"
   ]
  },
  {
   "cell_type": "code",
   "execution_count": 46,
   "metadata": {},
   "outputs": [
    {
     "data": {
      "text/plain": [
       "[{'TF': [0, 0, 0, 0, 0, 0, 0, 0, 0, 0],\n",
       "  'TORCH': [0, 0, 0, 0, 1, 1, 0, 1, 0, 0]}]"
      ]
     },
     "execution_count": 46,
     "metadata": {},
     "output_type": "execute_result"
    }
   ],
   "source": [
    "res.json()"
   ]
  },
  {
   "cell_type": "markdown",
   "metadata": {},
   "source": []
  },
  {
   "cell_type": "code",
   "execution_count": null,
   "metadata": {},
   "outputs": [],
   "source": []
  }
 ],
 "metadata": {
  "kernelspec": {
   "display_name": "faster_rcnn-JBYFTW3f",
   "language": "python",
   "name": "python3"
  },
  "language_info": {
   "codemirror_mode": {
    "name": "ipython",
    "version": 3
   },
   "file_extension": ".py",
   "mimetype": "text/x-python",
   "name": "python",
   "nbconvert_exporter": "python",
   "pygments_lexer": "ipython3",
   "version": "3.9.12"
  }
 },
 "nbformat": 4,
 "nbformat_minor": 2
}
